{
 "cells": [
  {
   "cell_type": "code",
   "execution_count": 1,
   "metadata": {},
   "outputs": [],
   "source": [
    "from datetime import date, datetime, timedelta\n",
    "import matplotlib.pyplot as plt\n",
    "from functools import reduce\n",
    "from time import strptime\n",
    "import datetime as dt\n",
    "import seaborn as sns\n",
    "import pandas as pd\n",
    "import numpy as np\n",
    "import calendar\n",
    "import swifter\n",
    "import random"
   ]
  },
  {
   "cell_type": "markdown",
   "metadata": {},
   "source": [
    "## ACLED Data"
   ]
  },
  {
   "cell_type": "code",
   "execution_count": 2,
   "metadata": {},
   "outputs": [
    {
     "ename": "FileNotFoundError",
     "evalue": "[Errno 2] File b'data/2013-01-01-2018-12-31.csv' does not exist: b'data/2013-01-01-2018-12-31.csv'",
     "output_type": "error",
     "traceback": [
      "\u001b[0;31m---------------------------------------------------------------------------\u001b[0m",
      "\u001b[0;31mFileNotFoundError\u001b[0m                         Traceback (most recent call last)",
      "\u001b[0;32m<ipython-input-2-ea8a2e3ead5b>\u001b[0m in \u001b[0;36m<module>\u001b[0;34m\u001b[0m\n\u001b[0;32m----> 1\u001b[0;31m \u001b[0macled_df\u001b[0m \u001b[0;34m=\u001b[0m \u001b[0mpd\u001b[0m\u001b[0;34m.\u001b[0m\u001b[0mread_csv\u001b[0m\u001b[0;34m(\u001b[0m\u001b[0;34m\"data/2013-01-01-2018-12-31.csv\"\u001b[0m\u001b[0;34m)\u001b[0m\u001b[0;34m\u001b[0m\u001b[0;34m\u001b[0m\u001b[0m\n\u001b[0m",
      "\u001b[0;32m~/anaconda3/lib/python3.7/site-packages/pandas/io/parsers.py\u001b[0m in \u001b[0;36mparser_f\u001b[0;34m(filepath_or_buffer, sep, delimiter, header, names, index_col, usecols, squeeze, prefix, mangle_dupe_cols, dtype, engine, converters, true_values, false_values, skipinitialspace, skiprows, skipfooter, nrows, na_values, keep_default_na, na_filter, verbose, skip_blank_lines, parse_dates, infer_datetime_format, keep_date_col, date_parser, dayfirst, iterator, chunksize, compression, thousands, decimal, lineterminator, quotechar, quoting, doublequote, escapechar, comment, encoding, dialect, tupleize_cols, error_bad_lines, warn_bad_lines, delim_whitespace, low_memory, memory_map, float_precision)\u001b[0m\n\u001b[1;32m    700\u001b[0m                     skip_blank_lines=skip_blank_lines)\n\u001b[1;32m    701\u001b[0m \u001b[0;34m\u001b[0m\u001b[0m\n\u001b[0;32m--> 702\u001b[0;31m         \u001b[0;32mreturn\u001b[0m \u001b[0m_read\u001b[0m\u001b[0;34m(\u001b[0m\u001b[0mfilepath_or_buffer\u001b[0m\u001b[0;34m,\u001b[0m \u001b[0mkwds\u001b[0m\u001b[0;34m)\u001b[0m\u001b[0;34m\u001b[0m\u001b[0;34m\u001b[0m\u001b[0m\n\u001b[0m\u001b[1;32m    703\u001b[0m \u001b[0;34m\u001b[0m\u001b[0m\n\u001b[1;32m    704\u001b[0m     \u001b[0mparser_f\u001b[0m\u001b[0;34m.\u001b[0m\u001b[0m__name__\u001b[0m \u001b[0;34m=\u001b[0m \u001b[0mname\u001b[0m\u001b[0;34m\u001b[0m\u001b[0;34m\u001b[0m\u001b[0m\n",
      "\u001b[0;32m~/anaconda3/lib/python3.7/site-packages/pandas/io/parsers.py\u001b[0m in \u001b[0;36m_read\u001b[0;34m(filepath_or_buffer, kwds)\u001b[0m\n\u001b[1;32m    427\u001b[0m \u001b[0;34m\u001b[0m\u001b[0m\n\u001b[1;32m    428\u001b[0m     \u001b[0;31m# Create the parser.\u001b[0m\u001b[0;34m\u001b[0m\u001b[0;34m\u001b[0m\u001b[0;34m\u001b[0m\u001b[0m\n\u001b[0;32m--> 429\u001b[0;31m     \u001b[0mparser\u001b[0m \u001b[0;34m=\u001b[0m \u001b[0mTextFileReader\u001b[0m\u001b[0;34m(\u001b[0m\u001b[0mfilepath_or_buffer\u001b[0m\u001b[0;34m,\u001b[0m \u001b[0;34m**\u001b[0m\u001b[0mkwds\u001b[0m\u001b[0;34m)\u001b[0m\u001b[0;34m\u001b[0m\u001b[0;34m\u001b[0m\u001b[0m\n\u001b[0m\u001b[1;32m    430\u001b[0m \u001b[0;34m\u001b[0m\u001b[0m\n\u001b[1;32m    431\u001b[0m     \u001b[0;32mif\u001b[0m \u001b[0mchunksize\u001b[0m \u001b[0;32mor\u001b[0m \u001b[0miterator\u001b[0m\u001b[0;34m:\u001b[0m\u001b[0;34m\u001b[0m\u001b[0;34m\u001b[0m\u001b[0m\n",
      "\u001b[0;32m~/anaconda3/lib/python3.7/site-packages/pandas/io/parsers.py\u001b[0m in \u001b[0;36m__init__\u001b[0;34m(self, f, engine, **kwds)\u001b[0m\n\u001b[1;32m    893\u001b[0m             \u001b[0mself\u001b[0m\u001b[0;34m.\u001b[0m\u001b[0moptions\u001b[0m\u001b[0;34m[\u001b[0m\u001b[0;34m'has_index_names'\u001b[0m\u001b[0;34m]\u001b[0m \u001b[0;34m=\u001b[0m \u001b[0mkwds\u001b[0m\u001b[0;34m[\u001b[0m\u001b[0;34m'has_index_names'\u001b[0m\u001b[0;34m]\u001b[0m\u001b[0;34m\u001b[0m\u001b[0;34m\u001b[0m\u001b[0m\n\u001b[1;32m    894\u001b[0m \u001b[0;34m\u001b[0m\u001b[0m\n\u001b[0;32m--> 895\u001b[0;31m         \u001b[0mself\u001b[0m\u001b[0;34m.\u001b[0m\u001b[0m_make_engine\u001b[0m\u001b[0;34m(\u001b[0m\u001b[0mself\u001b[0m\u001b[0;34m.\u001b[0m\u001b[0mengine\u001b[0m\u001b[0;34m)\u001b[0m\u001b[0;34m\u001b[0m\u001b[0;34m\u001b[0m\u001b[0m\n\u001b[0m\u001b[1;32m    896\u001b[0m \u001b[0;34m\u001b[0m\u001b[0m\n\u001b[1;32m    897\u001b[0m     \u001b[0;32mdef\u001b[0m \u001b[0mclose\u001b[0m\u001b[0;34m(\u001b[0m\u001b[0mself\u001b[0m\u001b[0;34m)\u001b[0m\u001b[0;34m:\u001b[0m\u001b[0;34m\u001b[0m\u001b[0;34m\u001b[0m\u001b[0m\n",
      "\u001b[0;32m~/anaconda3/lib/python3.7/site-packages/pandas/io/parsers.py\u001b[0m in \u001b[0;36m_make_engine\u001b[0;34m(self, engine)\u001b[0m\n\u001b[1;32m   1120\u001b[0m     \u001b[0;32mdef\u001b[0m \u001b[0m_make_engine\u001b[0m\u001b[0;34m(\u001b[0m\u001b[0mself\u001b[0m\u001b[0;34m,\u001b[0m \u001b[0mengine\u001b[0m\u001b[0;34m=\u001b[0m\u001b[0;34m'c'\u001b[0m\u001b[0;34m)\u001b[0m\u001b[0;34m:\u001b[0m\u001b[0;34m\u001b[0m\u001b[0;34m\u001b[0m\u001b[0m\n\u001b[1;32m   1121\u001b[0m         \u001b[0;32mif\u001b[0m \u001b[0mengine\u001b[0m \u001b[0;34m==\u001b[0m \u001b[0;34m'c'\u001b[0m\u001b[0;34m:\u001b[0m\u001b[0;34m\u001b[0m\u001b[0;34m\u001b[0m\u001b[0m\n\u001b[0;32m-> 1122\u001b[0;31m             \u001b[0mself\u001b[0m\u001b[0;34m.\u001b[0m\u001b[0m_engine\u001b[0m \u001b[0;34m=\u001b[0m \u001b[0mCParserWrapper\u001b[0m\u001b[0;34m(\u001b[0m\u001b[0mself\u001b[0m\u001b[0;34m.\u001b[0m\u001b[0mf\u001b[0m\u001b[0;34m,\u001b[0m \u001b[0;34m**\u001b[0m\u001b[0mself\u001b[0m\u001b[0;34m.\u001b[0m\u001b[0moptions\u001b[0m\u001b[0;34m)\u001b[0m\u001b[0;34m\u001b[0m\u001b[0;34m\u001b[0m\u001b[0m\n\u001b[0m\u001b[1;32m   1123\u001b[0m         \u001b[0;32melse\u001b[0m\u001b[0;34m:\u001b[0m\u001b[0;34m\u001b[0m\u001b[0;34m\u001b[0m\u001b[0m\n\u001b[1;32m   1124\u001b[0m             \u001b[0;32mif\u001b[0m \u001b[0mengine\u001b[0m \u001b[0;34m==\u001b[0m \u001b[0;34m'python'\u001b[0m\u001b[0;34m:\u001b[0m\u001b[0;34m\u001b[0m\u001b[0;34m\u001b[0m\u001b[0m\n",
      "\u001b[0;32m~/anaconda3/lib/python3.7/site-packages/pandas/io/parsers.py\u001b[0m in \u001b[0;36m__init__\u001b[0;34m(self, src, **kwds)\u001b[0m\n\u001b[1;32m   1851\u001b[0m         \u001b[0mkwds\u001b[0m\u001b[0;34m[\u001b[0m\u001b[0;34m'usecols'\u001b[0m\u001b[0;34m]\u001b[0m \u001b[0;34m=\u001b[0m \u001b[0mself\u001b[0m\u001b[0;34m.\u001b[0m\u001b[0musecols\u001b[0m\u001b[0;34m\u001b[0m\u001b[0;34m\u001b[0m\u001b[0m\n\u001b[1;32m   1852\u001b[0m \u001b[0;34m\u001b[0m\u001b[0m\n\u001b[0;32m-> 1853\u001b[0;31m         \u001b[0mself\u001b[0m\u001b[0;34m.\u001b[0m\u001b[0m_reader\u001b[0m \u001b[0;34m=\u001b[0m \u001b[0mparsers\u001b[0m\u001b[0;34m.\u001b[0m\u001b[0mTextReader\u001b[0m\u001b[0;34m(\u001b[0m\u001b[0msrc\u001b[0m\u001b[0;34m,\u001b[0m \u001b[0;34m**\u001b[0m\u001b[0mkwds\u001b[0m\u001b[0;34m)\u001b[0m\u001b[0;34m\u001b[0m\u001b[0;34m\u001b[0m\u001b[0m\n\u001b[0m\u001b[1;32m   1854\u001b[0m         \u001b[0mself\u001b[0m\u001b[0;34m.\u001b[0m\u001b[0munnamed_cols\u001b[0m \u001b[0;34m=\u001b[0m \u001b[0mself\u001b[0m\u001b[0;34m.\u001b[0m\u001b[0m_reader\u001b[0m\u001b[0;34m.\u001b[0m\u001b[0munnamed_cols\u001b[0m\u001b[0;34m\u001b[0m\u001b[0;34m\u001b[0m\u001b[0m\n\u001b[1;32m   1855\u001b[0m \u001b[0;34m\u001b[0m\u001b[0m\n",
      "\u001b[0;32mpandas/_libs/parsers.pyx\u001b[0m in \u001b[0;36mpandas._libs.parsers.TextReader.__cinit__\u001b[0;34m()\u001b[0m\n",
      "\u001b[0;32mpandas/_libs/parsers.pyx\u001b[0m in \u001b[0;36mpandas._libs.parsers.TextReader._setup_parser_source\u001b[0;34m()\u001b[0m\n",
      "\u001b[0;31mFileNotFoundError\u001b[0m: [Errno 2] File b'data/2013-01-01-2018-12-31.csv' does not exist: b'data/2013-01-01-2018-12-31.csv'"
     ]
    }
   ],
   "source": [
    "acled_df = pd.read_csv(\"data/2013-01-01-2018-12-31.csv\")"
   ]
  },
  {
   "cell_type": "code",
   "execution_count": null,
   "metadata": {},
   "outputs": [],
   "source": [
    "len(acled_df)"
   ]
  },
  {
   "cell_type": "code",
   "execution_count": null,
   "metadata": {},
   "outputs": [],
   "source": [
    "acled_df.head(10)"
   ]
  },
  {
   "cell_type": "code",
   "execution_count": null,
   "metadata": {},
   "outputs": [],
   "source": [
    "acled_df.drop(\n",
    "    [\"data_id\",\"iso\",\"event_id_cnty\",\"event_id_no_cnty\",\\\n",
    "    \"time_precision\",\"actor1\",\"assoc_actor_1\",\"inter1\",\\\n",
    "    \"actor2\",\"assoc_actor_2\",\"inter2\",\"interaction\",\"region\",\\\n",
    "    \"admin1\",\"admin2\",\"admin3\",\"geo_precision\",\"source\",\\\n",
    "    \"source_scale\",\"timestamp\"]\\\n",
    "    ,axis = 1,inplace = True)"
   ]
  },
  {
   "cell_type": "code",
   "execution_count": null,
   "metadata": {},
   "outputs": [],
   "source": [
    "def get_week_day(date_string):\n",
    "    date_object = datetime.strptime(date_string, \"%d %B %Y\")\n",
    "    return calendar.day_name[(date_object).weekday()]"
   ]
  },
  {
   "cell_type": "code",
   "execution_count": null,
   "metadata": {},
   "outputs": [],
   "source": [
    "def get_month(date_string):\n",
    "    return date_string.split(\" \")[1]"
   ]
  },
  {
   "cell_type": "code",
   "execution_count": null,
   "metadata": {
    "scrolled": true
   },
   "outputs": [],
   "source": [
    "acled_df[\"week_day\"] = acled_df[\"event_date\"].swifter.apply(get_week_day)"
   ]
  },
  {
   "cell_type": "code",
   "execution_count": null,
   "metadata": {},
   "outputs": [],
   "source": [
    "acled_df[\"month\"] = acled_df[\"event_date\"].swifter.apply(get_month)"
   ]
  },
  {
   "cell_type": "code",
   "execution_count": null,
   "metadata": {},
   "outputs": [],
   "source": [
    "acled_df.head(20)"
   ]
  },
  {
   "cell_type": "code",
   "execution_count": null,
   "metadata": {},
   "outputs": [],
   "source": [
    "acled_df.to_csv(\"Output/acled_data.csv\")\n",
    "acled_df.to_csv(\"Output/acled_data.js\")"
   ]
  },
  {
   "cell_type": "code",
   "execution_count": null,
   "metadata": {},
   "outputs": [],
   "source": [
    "print(len(acled_df[\"country\"].unique()))\n",
    "country = acled_df[\"country\"].unique()\n",
    "country.sort()\n",
    "country"
   ]
  },
  {
   "cell_type": "code",
   "execution_count": null,
   "metadata": {},
   "outputs": [],
   "source": [
    "acled_df[\"sub_event_type\"].unique()"
   ]
  },
  {
   "cell_type": "code",
   "execution_count": null,
   "metadata": {},
   "outputs": [],
   "source": [
    "violent = acled_df.loc[acled_df[\"event_type\"]=='Protests'].reset_index(drop=True)"
   ]
  },
  {
   "cell_type": "code",
   "execution_count": null,
   "metadata": {},
   "outputs": [],
   "source": [
    "nig_violent_df = violent.loc[violent[\"country\"]==\"Nigeria\"].reset_index(drop=True)\n",
    "nig_violent_df.head(5)"
   ]
  },
  {
   "cell_type": "code",
   "execution_count": null,
   "metadata": {},
   "outputs": [],
   "source": [
    "acled2018_data = acled_df.loc[acled_df[\"year\"]==2018].reset_index(drop=True)"
   ]
  },
  {
   "cell_type": "code",
   "execution_count": null,
   "metadata": {},
   "outputs": [],
   "source": [
    "def get_grouped(term):\n",
    "    grouped = acled2018_data[[\"country\",\"iso3\",\"event_type\"]]\\\n",
    "                .groupby( [\"country\",\"iso3\",\"event_type\"] ).size().to_frame(name = 'count').reset_index()\n",
    "    return grouped.loc[grouped[\"event_type\"]==f'{term}'].drop(\"event_type\",axis=1)\\\n",
    "                .rename(columns = {\"count\":f'{term}'}).reset_index(drop=True)"
   ]
  },
  {
   "cell_type": "code",
   "execution_count": null,
   "metadata": {},
   "outputs": [],
   "source": [
    "event_types = list(acled2018_data[\"event_type\"].unique())\n",
    "event_types"
   ]
  },
  {
   "cell_type": "code",
   "execution_count": null,
   "metadata": {},
   "outputs": [],
   "source": [
    "list_events = [get_grouped(f'{event}') for event in event_types]\n",
    "merged_df = reduce(lambda x,y: pd.merge(x,y, on = [\"country\",\"iso3\"]), list_events).\\\n",
    "                rename(columns={\"iso3\":\"country_code\",\n",
    "                                \"Violence against civilians\":\"violence\",\n",
    "                                \"Strategic developments\":\"development\",\n",
    "                                \"Battles\":\"battles\",\n",
    "                               })\n",
    "merged_df.head()"
   ]
  },
  {
   "cell_type": "code",
   "execution_count": null,
   "metadata": {},
   "outputs": [],
   "source": [
    "a = get_grouped(event_types[0])\n",
    "merged_df2 = pd.merge(a,get_grouped(event_types[2])).rename(columns={\"iso3\":\"country_code\",\n",
    "                                \"Violence against civilians\":\"Human Trafficking Events\",\n",
    "                                \"Battles\":\"Battles Fought\",\n",
    "                               })\n",
    "merged_df2.head()"
   ]
  },
  {
   "cell_type": "code",
   "execution_count": null,
   "metadata": {},
   "outputs": [],
   "source": [
    "merged_df.to_csv(\"Output/acled2018_events_type_data.csv\")"
   ]
  },
  {
   "cell_type": "markdown",
   "metadata": {},
   "source": [
    "## Function to parse UNICEF Data"
   ]
  },
  {
   "cell_type": "code",
   "execution_count": null,
   "metadata": {},
   "outputs": [],
   "source": [
    "def drop_and_rename(data,value):\n",
    "    return data[[\"Geographic Area\",\"Observation Value\"]].dropna().\\\n",
    "            rename(columns={\"Geographic Area\":\"country\",\n",
    "                            \"Observation Value\":f\"{value}\"})"
   ]
  },
  {
   "cell_type": "markdown",
   "metadata": {},
   "source": [
    "## Asylum seekers, by country of destination in thousands of persons"
   ]
  },
  {
   "cell_type": "code",
   "execution_count": null,
   "metadata": {},
   "outputs": [],
   "source": [
    "asylm_df = pd.read_csv(\"data/GLOBAL_ASYLM_CNTRY_DEST._T._.csv\")"
   ]
  },
  {
   "cell_type": "code",
   "execution_count": null,
   "metadata": {},
   "outputs": [],
   "source": [
    "# Asylum of seekers by country of destination, observation seekers in thousands\n",
    "asylm_df = drop_and_rename(asylm_df,\"Asylum Seekers\")\n",
    "for index, row in asylm_df.iterrows():\n",
    "    try:\n",
    "        if asylm_df.loc[index, \"Asylum Seekers\"] == \"<1\":\n",
    "            asylm_df.loc[index, \"Asylum Seekers\"] = round(random.random(),2)\n",
    "    except:\n",
    "        pass    "
   ]
  },
  {
   "cell_type": "code",
   "execution_count": null,
   "metadata": {},
   "outputs": [],
   "source": [
    "asylm_df.head() "
   ]
  },
  {
   "cell_type": "markdown",
   "metadata": {},
   "source": [
    "## Total population by country in thousands of persons"
   ]
  },
  {
   "cell_type": "code",
   "execution_count": null,
   "metadata": {},
   "outputs": [],
   "source": [
    "pop_df = pd.read_csv(\"data/GLOBAL_POP_TOT._2018.csv\")\n",
    "pop_df = drop_and_rename(pop_df,\"Population\")"
   ]
  },
  {
   "cell_type": "code",
   "execution_count": null,
   "metadata": {},
   "outputs": [],
   "source": [
    "pop_df[\"Population\"]=round(pop_df[\"Population\"],2)"
   ]
  },
  {
   "cell_type": "code",
   "execution_count": null,
   "metadata": {},
   "outputs": [],
   "source": [
    "pop_df.head()"
   ]
  },
  {
   "cell_type": "markdown",
   "metadata": {},
   "source": [
    "## Estimated number of annual AIDS-related deaths (adolescents and young people aged 15-24 years) in persons"
   ]
  },
  {
   "cell_type": "code",
   "execution_count": null,
   "metadata": {},
   "outputs": [],
   "source": [
    "hiv_df = pd.read_csv(\"data/GLOBAL_HIV.csv\")\n",
    "hiv_df = hiv_df.loc[hiv_df[\"Time Period\"] == 2018]\n",
    "hiv_df = drop_and_rename(hiv_df,\"Aids Related Death\").reset_index(drop=True)"
   ]
  },
  {
   "cell_type": "code",
   "execution_count": null,
   "metadata": {},
   "outputs": [],
   "source": [
    "for index, row in hiv_df.iterrows():\n",
    "    try:\n",
    "        if hiv_df.loc[index, \"Aids Related Death\"] == \"<100\":\n",
    "            hiv_df.loc[index, \"Aids Related Death\"] = round((random.random()+4)*20,2)\n",
    "        if hiv_df.loc[index, \"Aids Related Death\"] == \"<200\":\n",
    "            hiv_df.loc[index, \"Aids Related Death\"] = round((random.random()+4)*40,2)\n",
    "        if hiv_df.loc[index, \"Aids Related Death\"] == \"<500\":\n",
    "            hiv_df.loc[index, \"Aids Related Death\"] = round((random.random()+4)*100,2)\n",
    "    except:\n",
    "        pass\n",
    "\n",
    "hiv_df.head()"
   ]
  },
  {
   "cell_type": "markdown",
   "metadata": {},
   "source": [
    "## Smoking death by country https://ourworldindata.org/smoking"
   ]
  },
  {
   "cell_type": "code",
   "execution_count": null,
   "metadata": {},
   "outputs": [],
   "source": [
    "smoking_death_df = pd.read_csv(\"data/share-deaths-smoking.csv\")\n",
    "smoking_death_df = smoking_death_df.loc[smoking_death_df[\"Year\"]==2017].reset_index(drop=True)\n",
    "smoking_death_df.rename(columns={\"Entity\":\"country\",\n",
    "                            \"Share of deaths from smoking (%)\":\"Death From Smoking\"},inplace=True)\n",
    "smoking_death_df = smoking_death_df[[\"country\",\"Death From Smoking\"]]\n",
    "smoking_death_df.head()"
   ]
  },
  {
   "cell_type": "markdown",
   "metadata": {},
   "source": [
    "## Global Life Expectancy in Years"
   ]
  },
  {
   "cell_type": "code",
   "execution_count": null,
   "metadata": {},
   "outputs": [],
   "source": [
    "life_exp = pd.read_csv(\"data/GLOBAL_LIFE_EXP._T._.csv\")\n",
    "life_exp_df = drop_and_rename(life_exp,\"Life Expectancy\").reset_index(drop=True)"
   ]
  },
  {
   "cell_type": "code",
   "execution_count": null,
   "metadata": {},
   "outputs": [],
   "source": [
    "life_exp_df[\"Life Expectancy\"] = round(life_exp_df[\"Life Expectancy\"],2)"
   ]
  },
  {
   "cell_type": "code",
   "execution_count": null,
   "metadata": {},
   "outputs": [],
   "source": [
    "life_exp_df.head()"
   ]
  },
  {
   "cell_type": "markdown",
   "metadata": {},
   "source": [
    "## Merge everything"
   ]
  },
  {
   "cell_type": "code",
   "execution_count": null,
   "metadata": {},
   "outputs": [],
   "source": [
    "new_list_events = [merged_df2,pop_df,asylm_df,hiv_df,life_exp_df,smoking_death_df]\n",
    "new_merged_df = reduce(lambda x,y: pd.merge(x,y, on = \"country\"), new_list_events)\n",
    "new_merged_df"
   ]
  },
  {
   "cell_type": "code",
   "execution_count": null,
   "metadata": {},
   "outputs": [],
   "source": [
    "new_merged_df.to_csv(\"Output/merge_dataset.csv\", index = False)"
   ]
  },
  {
   "cell_type": "code",
   "execution_count": null,
   "metadata": {},
   "outputs": [],
   "source": [
    "merge_dict= new_merged_df.to_dict('records')"
   ]
  },
  {
   "cell_type": "code",
   "execution_count": null,
   "metadata": {},
   "outputs": [],
   "source": []
  },
  {
   "cell_type": "code",
   "execution_count": null,
   "metadata": {},
   "outputs": [],
   "source": [
    "import pymongo\n",
    "# Initialize PyMongo to work with MongoDBs\n",
    "conn = 'mongodb://localhost:27017'\n",
    "client = pymongo.MongoClient(conn)\n",
    "# Define database and collection\n",
    "db = client.merged_data\n",
    "merged_data = db.merged_data"
   ]
  },
  {
   "cell_type": "code",
   "execution_count": null,
   "metadata": {},
   "outputs": [],
   "source": [
    "merged_data.remove()\n",
    "merged_data.insert(merge_dict,check_keys=False)"
   ]
  },
  {
   "cell_type": "code",
   "execution_count": null,
   "metadata": {},
   "outputs": [],
   "source": [
    "merge_result = []\n",
    "result = merged_data.find()\n",
    "for result in result:\n",
    "    print(result)\n",
    "    if '_id' in result:\n",
    "        del result['_id']\n",
    "        merge_result.append(result)"
   ]
  },
  {
   "cell_type": "code",
   "execution_count": null,
   "metadata": {},
   "outputs": [],
   "source": [
    "merge_result"
   ]
  },
  {
   "cell_type": "code",
   "execution_count": null,
   "metadata": {},
   "outputs": [],
   "source": [
    "from bson import json_util\n",
    "\n",
    "\n",
    "\n",
    "json.dumps(merge_result,default=json_util.default)"
   ]
  },
  {
   "cell_type": "markdown",
   "metadata": {},
   "source": [
    "## Exploratory Data Analysis"
   ]
  },
  {
   "cell_type": "code",
   "execution_count": null,
   "metadata": {},
   "outputs": [],
   "source": [
    "new_merged_df[\"Asylum Seekers\"] = pd.to_numeric(new_merged_df[\"Asylum Seekers\"], errors ='ignore')\n",
    "new_merged_df[\"Aids Related Death\"] = pd.to_numeric(new_merged_df[\"Aids Related Death\"], errors ='ignore')"
   ]
  },
  {
   "cell_type": "code",
   "execution_count": null,
   "metadata": {},
   "outputs": [],
   "source": [
    "correlations = new_merged_df.drop([\"country\",\"country_code\"],axis=1).corr()\n",
    "# plot correlation matrix\n",
    "fig = plt.figure(figsize=(15,10))\n",
    "ax = fig.add_subplot(111)\n",
    "cax = ax.matshow(correlations, vmin=-1, vmax=1)\n",
    "fig.colorbar(cax)\n",
    "ticks = np.arange(0,9,1)\n",
    "ax.set_xticks(ticks)\n",
    "ax.set_yticks(ticks)\n",
    "names = list( new_merged_df.drop([\"country\",\"country_code\"],axis=1).columns)\n",
    "ax.set_xticklabels(names)\n",
    "ax.set_yticklabels(names)\n",
    "plt.show()"
   ]
  },
  {
   "cell_type": "code",
   "execution_count": null,
   "metadata": {},
   "outputs": [],
   "source": [
    "from pandas.plotting import scatter_matrix\n",
    "scatter_matrix(new_merged_df.drop([\"country\",\"country_code\"],axis=1),figsize=(15,10))\n",
    "plt.show()"
   ]
  },
  {
   "cell_type": "code",
   "execution_count": null,
   "metadata": {},
   "outputs": [],
   "source": [
    "pov_df = pd.read_csv(\"data/Poverty.csv\").dropna().rename(columns= {'Unnamed: 0':'country', \n",
    "                                    'Unnamed: 2':'Pop. Below $1.90 per day',\n",
    "                                    'Unnamed: 3':'Pop. Below $3.20 per day',\n",
    "                                    'Unnamed: 4':'Pop. Below $5.50 per day'\n",
    "                                   }).replace(\"..\",\"NA\")[[\"country\",\"Population below $1.90 a day\"]]\n",
    "pov_df.head()"
   ]
  },
  {
   "cell_type": "code",
   "execution_count": null,
   "metadata": {},
   "outputs": [],
   "source": [
    "import json\n",
    "with open(\"Output/normal_cases.json\", 'r') as fp:\n",
    "    normal_data = json.load(fp)\n",
    "with open(\"Output/special_cases.json\", 'r') as fp:\n",
    "    special_data = json.load(fp)   "
   ]
  },
  {
   "cell_type": "code",
   "execution_count": null,
   "metadata": {},
   "outputs": [],
   "source": [
    "country = [list(i.keys())[0].title() for i in normal_data]\n",
    "intro = [list(i.values())[0][0]['INTRO'] for i in normal_data]\n",
    "tier = [list(i.values())[0][1]['TIER'] for i in normal_data]\n",
    "recommendation = []\n",
    "prosecution = []\n",
    "protection = []\n",
    "prevention = []\n",
    "traffick_profile = []\n",
    "for i in normal_data:\n",
    "    try:\n",
    "        recommendation.append(list(i.values())[0][2]['RECOMMENDATIONS'])\n",
    "        prosecution.append(list(i.values())[0][3]['PROSECUTIONS'])\n",
    "        protection.append(list(i.values())[0][4]['PROTECTION'])\n",
    "        prevention.append(list(i.values())[0][5]['PREVENTION'])\n",
    "        traffick_profile.append(list(i.values())[0][6]['TRAFFICKING PROFILE'])\n",
    "    except:\n",
    "        recommendation.append(\"NA\")\n",
    "        prosecution.append(\"NA\")\n",
    "        protection.append(\"NA\")\n",
    "        prevention.append(\"NA\")\n",
    "        traffick_profile.append('NA')\n",
    "        pass\n",
    "    \n",
    "special_countries = [list(i.keys())[0].title() for i in special_data]\n",
    "special_intro = [list(i.values())[0][0]['INTRO'] for i in special_data]\n",
    "special_tier = [list(i.values())[0][1]['TIER'] for i in special_data]\n",
    "special_government_effort = [list(i.values())[0][2]['GOVERNMENT EFFORTS'] for i in special_data]\n",
    "special_traffick_profile = [list(i.values())[0][3]['TRAFFICKING PROFILE'] for i in special_data]"
   ]
  },
  {
   "cell_type": "code",
   "execution_count": null,
   "metadata": {},
   "outputs": [],
   "source": [
    "country.extend(special_countries)\n",
    "intro.extend(special_intro)\n",
    "tier.extend(special_tier)\n",
    "recommendation.extend([\"NA\",\"NA\",\"NA\",\"NA\"])\n",
    "prosecution.extend([\"NA\",\"NA\",\"NA\",\"NA\"])\n",
    "protection.extend([\"NA\",\"NA\",\"NA\",\"NA\"])\n",
    "prevention.extend(special_government_effort)\n",
    "traffick_profile.extend(special_traffick_profile)"
   ]
  },
  {
   "cell_type": "code",
   "execution_count": null,
   "metadata": {},
   "outputs": [],
   "source": [
    "tip_report = pd.DataFrame({\"country\":country,\n",
    "              \"introduction\":intro,\n",
    "              \"tier\":tier,\n",
    "              \"recommendation\":recommendation,\n",
    "              \"prosecution\":prosecution,\n",
    "              \"protection\":protection,\n",
    "              \"prevention\":prevention,\n",
    "              \"traffick_profile\":traffick_profile})\n",
    "tip_report.sort_values(by=['country'], inplace=True)\n",
    "tip_report.head()"
   ]
  },
  {
   "cell_type": "code",
   "execution_count": null,
   "metadata": {},
   "outputs": [],
   "source": [
    "acled2018vio_data = acled2018_data.loc[acled2018_data[\"event_type\"]==\"Violence against civilians\"]\n",
    "acled2018vio_data.head()"
   ]
  },
  {
   "cell_type": "code",
   "execution_count": null,
   "metadata": {},
   "outputs": [],
   "source": [
    "week_group = acled2018vio_data[[\"country\",\"iso3\",\"event_type\",\"location\",\"latitude\",\"longitude\",\"notes\",\"fatalities\",\"week_day\",\"month\"]]\\\n",
    "                .groupby( [\"country\",\"week_day\"] ).size().to_frame(name = 'count').reset_index()\n",
    "week_group = week_group.pivot(index='country', columns='week_day', values='count').fillna(0)\n",
    "week_group = week_group[[\"Monday\",\"Tuesday\",\"Wednesday\",\"Thursday\",\"Friday\",\"Saturday\",\"Sunday\"]]"
   ]
  },
  {
   "cell_type": "code",
   "execution_count": null,
   "metadata": {},
   "outputs": [],
   "source": [
    "week_group.head() "
   ]
  },
  {
   "cell_type": "code",
   "execution_count": null,
   "metadata": {},
   "outputs": [],
   "source": [
    "month_group = acled2018vio_data[[\"country\",\"iso3\",\"event_type\",\"location\",\"latitude\",\"longitude\",\"notes\",\"fatalities\",\"week_day\",\"month\"]]\\\n",
    "                .groupby( [\"country\",\"month\"] ).size().to_frame(name = 'count').reset_index()\n",
    "month_group = month_group.pivot(index='country', columns='month', values='count').fillna(0)\n",
    "month_group = month_group[[\"January\",\"February\",\"March\",\"April\",\"May\",\"June\",\"July\",\"August\",\"September\",\"October\",\"November\",\"December\"]]\n",
    "month_group.head()\n"
   ]
  },
  {
   "cell_type": "code",
   "execution_count": null,
   "metadata": {},
   "outputs": [],
   "source": [
    "acled2018vio_data.head()"
   ]
  },
  {
   "cell_type": "code",
   "execution_count": null,
   "metadata": {},
   "outputs": [],
   "source": [
    "listEvents = [get_grouped(event_types[0]),pop_df,asylm_df,life_exp_df,pov_df,tip_report,week_group,month_group]\n",
    "complete_df = reduce(lambda x,y: pd.merge(x,y, on = \"country\"), listEvents)\n",
    "complete_df.head()"
   ]
  },
  {
   "cell_type": "code",
   "execution_count": null,
   "metadata": {},
   "outputs": [],
   "source": [
    "def get_notes(country):\n",
    "    a = acled2018vio_data.loc[acled2018vio_data[\"country\"]==f\"{country}\"]\n",
    "    notes = a[\"notes\"].tolist()\n",
    "    location=a[\"location\"].tolist()\n",
    "    latitude=[str(i) for i in a[\"latitude\"].tolist()]\n",
    "    longitude = [str(i) for i in a[\"longitude\"].tolist()]\n",
    "    fatalities = [str(i) for i in a[\"fatalities\"].tolist()]\n",
    "    return [\" \".join(notes),\"  \".join(location),\"  \".join(latitude),\"  \".join(longitude),\"  \".join(fatalities)]"
   ]
  },
  {
   "cell_type": "code",
   "execution_count": null,
   "metadata": {},
   "outputs": [],
   "source": [
    "complete_df[\"notes\"] = \" \"\n",
    "complete_df[\"location\"] = \" \"\n",
    "complete_df[\"latitude\"] = \" \"\n",
    "complete_df[\"longitude\"] = \" \"\n",
    "complete_df[\"fatalities\"] = \" \"\n",
    "for index, row in complete_df.iterrows():\n",
    "    try:\n",
    "        complete_df.loc[index, \"notes\"] = get_notes(complete_df.loc[index, \"country\"])[0]\n",
    "        complete_df.loc[index, \"location\"] = get_notes(complete_df.loc[index, \"country\"])[1]\n",
    "        complete_df.loc[index, \"latitude\"] = get_notes(complete_df.loc[index, \"country\"])[2]\n",
    "        complete_df.loc[index, \"longitude\"] = get_notes(complete_df.loc[index, \"country\"])[3]\n",
    "        complete_df.loc[index, \"fatalities\"] = get_notes(complete_df.loc[index, \"country\"])[4]\n",
    "    except:\n",
    "        pass"
   ]
  },
  {
   "cell_type": "code",
   "execution_count": null,
   "metadata": {},
   "outputs": [],
   "source": [
    "complete_df = complete_df.set_index(\"country\")\n",
    "complete_df.head(3)"
   ]
  },
  {
   "cell_type": "code",
   "execution_count": null,
   "metadata": {},
   "outputs": [],
   "source": [
    "complete_dict = complete_df.T.to_dict()\n",
    "b = list(complete_dict.values())\n",
    "for i in range(len(b)):\n",
    "    b[i][\"location\"] = b[i][\"location\"].split(\"  \")\n",
    "    b[i][\"latitude\"] = b[i][\"latitude\"].split(\"  \")\n",
    "    b[i][\"longitude\"] = b[i][\"longitude\"].split(\"  \")\n",
    "    b[i][\"fatalities\"] = b[i][\"fatalities\"].split(\"  \")"
   ]
  },
  {
   "cell_type": "code",
   "execution_count": null,
   "metadata": {},
   "outputs": [],
   "source": [
    "new_complete_df = pd.DataFrame(complete_dict).T\n",
    "new_complete_df"
   ]
  },
  {
   "cell_type": "code",
   "execution_count": null,
   "metadata": {},
   "outputs": [],
   "source": [
    "new_complete_df.to_csv(\"Output/Complete_dataset.csv\")\n",
    "new_complete_df.T.to_json(\"Output/Complete_dataset.json\")"
   ]
  },
  {
   "cell_type": "code",
   "execution_count": null,
   "metadata": {},
   "outputs": [],
   "source": []
  }
 ],
 "metadata": {
  "kernelspec": {
   "display_name": "Python 3.7.3 64-bit ('base': conda)",
   "language": "python",
   "name": "python37364bitbasecondaf7339001cfe34b54ae1ffacfd6447597"
  },
  "language_info": {
   "codemirror_mode": {
    "name": "ipython",
    "version": 3
   },
   "file_extension": ".py",
   "mimetype": "text/x-python",
   "name": "python",
   "nbconvert_exporter": "python",
   "pygments_lexer": "ipython3",
   "version": "3.7.3"
  }
 },
 "nbformat": 4,
 "nbformat_minor": 2
}
